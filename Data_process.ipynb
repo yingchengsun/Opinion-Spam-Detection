{
  "nbformat": 4,
  "nbformat_minor": 0,
  "metadata": {
    "colab": {
      "name": "Data_process",
      "provenance": [],
      "collapsed_sections": [],
      "include_colab_link": true
    },
    "kernelspec": {
      "name": "python3",
      "display_name": "Python 3"
    }
  },
  "cells": [
    {
      "cell_type": "markdown",
      "metadata": {
        "id": "view-in-github",
        "colab_type": "text"
      },
      "source": [
        "<a href=\"https://colab.research.google.com/github/yingchengsun/Opinion-Spam-Detection/blob/master/Data_process.ipynb\" target=\"_parent\"><img src=\"https://colab.research.google.com/assets/colab-badge.svg\" alt=\"Open In Colab\"/></a>"
      ]
    },
    {
      "cell_type": "code",
      "metadata": {
        "id": "nLIyqeyhguO2",
        "colab_type": "code",
        "outputId": "e51f3637-1c3b-4a49-a935-38954ff0d022",
        "colab": {
          "base_uri": "https://localhost:8080/",
          "height": 127
        }
      },
      "source": [
        "from google.colab import drive\n",
        "drive.mount('/content/drive')\n"
      ],
      "execution_count": 3,
      "outputs": [
        {
          "output_type": "stream",
          "text": [
            "Go to this URL in a browser: https://accounts.google.com/o/oauth2/auth?client_id=947318989803-6bn6qk8qdgf4n4g3pfee6491hc0brc4i.apps.googleusercontent.com&redirect_uri=urn%3Aietf%3Awg%3Aoauth%3A2.0%3Aoob&scope=email%20https%3A%2F%2Fwww.googleapis.com%2Fauth%2Fdocs.test%20https%3A%2F%2Fwww.googleapis.com%2Fauth%2Fdrive%20https%3A%2F%2Fwww.googleapis.com%2Fauth%2Fdrive.photos.readonly%20https%3A%2F%2Fwww.googleapis.com%2Fauth%2Fpeopleapi.readonly&response_type=code\n",
            "\n",
            "Enter your authorization code:\n",
            "··········\n",
            "Mounted at /content/drive\n"
          ],
          "name": "stdout"
        }
      ]
    },
    {
      "cell_type": "code",
      "metadata": {
        "id": "aS4SKFQCKS13",
        "colab_type": "code",
        "colab": {}
      },
      "source": [
        "import json\n",
        "from collections import OrderedDict\n",
        "import urllib\n",
        "from bs4 import BeautifulSoup\n",
        "import pandas as pd\n",
        "import binascii\n",
        "import pickle\n",
        "import base64\n",
        "import re\n",
        "import sys\n",
        "import os.path\n",
        "\n",
        "yelp=\"https://www.yelp.com\""
      ],
      "execution_count": 0,
      "outputs": []
    },
    {
      "cell_type": "code",
      "metadata": {
        "id": "aQQBLwa5KYqo",
        "colab_type": "code",
        "colab": {}
      },
      "source": [
        "'''\n",
        "transfer the original URL to 16 bit based coding address\n",
        "'''\n",
        "def transURL(s):\n",
        "    #s=\"a b c\"\n",
        "    trans=''\n",
        "    for x in s:\n",
        "        code = ord(x)\n",
        "        if (code>64 and code<91) or (code>96 and code<123) or (code>47 and code<58):\n",
        "            trans += x\n",
        "        else:\n",
        "            #trans += \"%\" + x.encode(\"hex\") #python 2.7\n",
        "            x = x.encode('utf-8') #python 3\n",
        "            trans += \"%\" + bytes.decode(base64.b16encode(x)) #python 3\n",
        "    return trans"
      ],
      "execution_count": 0,
      "outputs": []
    },
    {
      "cell_type": "code",
      "metadata": {
        "id": "lGj9pe-tuBmQ",
        "colab_type": "code",
        "colab": {}
      },
      "source": [
        "def download_images(reviewBody):\n",
        "    pre_images=reviewBody.findAll('div',{\"class\":\"photo-box photo-box--interactive is-loading\"})\n",
        "    for pre_image in pre_images:\n",
        "        image = pre_image.find('img')\n",
        "        image_url = image['data-async-src']\n",
        "        image_name = image_url.split('/')[-2]\n",
        "        urllib.urlretrieve(image_url,'pictures/'+'%s.jpg' % image_name)\n",
        "\n",
        "        more =  reviewBody.find('li',{\"class\":\"more-review-photos\"})\n",
        "        if more:\n",
        "            print more.find('a')['href']"
      ],
      "execution_count": 0,
      "outputs": []
    },
    {
      "cell_type": "code",
      "metadata": {
        "id": "cM1UvmBYhtV9",
        "colab_type": "code",
        "colab": {}
      },
      "source": [
        "def extractReviews(url, num_of_reviews, biz_id):\n",
        "\n",
        "    write_file_name = biz_id + \".json\"\n",
        "    with open(\"/content/drive/My Drive/Yelp/not_scraped.txt\", \"w+\") as not_scraped:\n",
        "      with open(\"/content/drive/My Drive/Yelp/Data/\" + write_file_name, \"w\") as write_file:\n",
        "        start = 0\n",
        "        num_of_items_perpage = 20\n",
        "        end = num_of_reviews\n",
        "        while (start < end):\n",
        "            url_ = url + '?start=' + str(start) + '&start='+ str(start)\n",
        "            start += num_of_items_perpage\n",
        "            #print (url_)\n",
        "            page = urllib.request.urlopen(url_)\n",
        "            soup = BeautifulSoup(page)\n",
        "            \n",
        "            #r= soup.find(\"script\",{\"type\":\"application/json\",\"data-hypernova-key\":\"yelp_main__6685fde41a25f43c936f7d1d7c8536b9cd17b120__yelp_main__BizDetailsApp__dynamic\"})\n",
        "            #r= soup.find(\"script\",{\"type\":\"application/json\",\"data-hypernova-key\":\"yelp_main__34ce8770cffec2357b054c3c9e43da6e193dbfd0__yelp_main__BizDetailsApp__dynamic\"})\n",
        "            #r= soup.find(\"script\",{\"type\":\"application/json\",\"data-hypernova-key\":\"yelp_main__dbe4f988045111aa201e743b45b6bc83f96d44d4__yelp_main__BizDetailsApp__dynamic\"})\n",
        "            #r= soup.find(\"script\",{\"type\":\"application/json\",\"data-hypernova-key\":\"yelp_main__5e83958d2ce784cbc6bb4524967f2af3e5536780__yelp_main__AdBizDetails__dynamic\"})\n",
        "            r= soup.find(\"script\",{\"type\":\"application/json\",\"data-hypernova-key\":\"yelp_main__c0b64b766510882c5f527d24ec7f3ed5d144aa37__yelp_main__BizDetailsApp__dynamic\"})\n",
        "            \n",
        "            n_r = soup.find(\"a\", string=re.compile(\"not currently recommended\"))\n",
        "                                                                                  \n",
        "            \n",
        "            if not r:\n",
        "              print (url_)\n",
        "              print (\"nothing\") # make a collector\n",
        "              not_scraped.write(biz_id)\n",
        "              not_scraped.write('\\n')\n",
        "              return\n",
        "            \n",
        "            r_json = (r.text.lstrip('<!--').rstrip('-->'))\n",
        "            data_item = json.loads(r_json, object_pairs_hook=OrderedDict)\n",
        "            reviews = data_item['bizDetailsPageProps']['reviewFeedQueryProps']['reviews']\n",
        "            for item in reviews:\n",
        "              new_features_and_label = {}\n",
        "              new_features_and_label['review_id'] = item['id']\n",
        "              new_features_and_label['totalPhotos'] = item['totalPhotos']\n",
        "              new_features_and_label['voterText'] = item['feedback']['voterText']\n",
        "              new_features_and_label['label'] = 1\n",
        "              json.dump(new_features_and_label, write_file)\n",
        "              write_file.write('\\n')\n",
        "        \n",
        "        \n",
        "        n_r_URL = yelp + n_r['href']\n",
        "        n_r_Number = n_r.text.split()[0]\n",
        "        print (n_r_Number)\n",
        "        \n",
        "        start = 0\n",
        "        num_of_items_perpage = 10\n",
        "        end = int(n_r_Number)\n",
        "        while (start < end):\n",
        "            url_ = n_r_URL + '?not_recommended_start=' + str(start)\n",
        "            print (url_)\n",
        "            page = urllib.request.urlopen(url_)\n",
        "            soup = BeautifulSoup(page)\n",
        "\n",
        "            for item in soup.findAll('div',{\"class\":\"review review--with-sidebar\"}):\n",
        "                new_features_and_label = {}\n",
        "                new_features_and_label['review_id'] = item['data-review-id']\n",
        "                \n",
        "                photos = item.find(\"li\", class_=\"photo-count responsive-small-display-inline-block\")\n",
        "                if photos != None:\n",
        "                  new_features_and_label['totalPhotos'] = int(photos.b.text)\n",
        "                else:\n",
        "                  new_features_and_label['totalPhotos'] = 0\n",
        "\n",
        "                new_features_and_label['reviews'] = item.find('div', class_=\"review-content\").p.text\n",
        "                if start > 0 and new_features_and_label['reviews'] == \"This review has been removed for violating our Terms of Service\":\n",
        "                  continue\n",
        "                new_features_and_label['label'] = 0\n",
        "                #print (reviewBody.find('p').text)\n",
        "                #ratings.append(reviewBody.div.meta['content'])\n",
        "                \n",
        "                json.dump(new_features_and_label, write_file)\n",
        "                write_file.write('\\n')\n",
        "            start += num_of_items_perpage\n",
        "    \n",
        "   \n",
        "      "
      ],
      "execution_count": 0,
      "outputs": []
    },
    {
      "cell_type": "code",
      "metadata": {
        "id": "WzXd4iKg0m4i",
        "colab_type": "code",
        "outputId": "cc88d7cd-4bad-4c38-a930-adb0bf633619",
        "colab": {
          "base_uri": "https://localhost:8080/",
          "height": 1000
        }
      },
      "source": [
        "'''\n",
        "Collect \"recommendated\" and \"not recommended\" reviews by business ID \n",
        "#Main entrance\n",
        "'''\n",
        "\n",
        "with open('/content/drive/My Drive/Yelp/yelp_dataset/business.json', 'r') as biz_inf:\n",
        "  i= 0\n",
        "  for idx, line in enumerate(biz_inf):  \n",
        "      if idx >= 100:\n",
        "        break\n",
        "      print (idx, line)\n",
        "       \n",
        "      '''\n",
        "      read business from 'business.json'\n",
        "      '''\n",
        "      data_item = json.loads(line, object_pairs_hook=OrderedDict)\n",
        "      biz_name = data_item['name']\n",
        "      biz_id = data_item['business_id']\n",
        "\n",
        "      if os.path.exists('/content/drive/My Drive/Yelp/Data/' +biz_id+'.json'):\n",
        "        continue\n",
        "      time.sleep(3)\n",
        "      print (biz_name)\n",
        "      biz_postal = data_item['postal_code']\n",
        "      \n",
        "      '''\n",
        "      Search the business info and get the first one in the result list as the target\n",
        "      '''\n",
        "      search_url = yelp+\"/search?find_desc=\"+transURL(biz_name)+\"&find_loc=\"+transURL(biz_postal)\n",
        "      print (search_url)\n",
        "      search_result = urllib.request.urlopen(search_url)   \n",
        "      soup = BeautifulSoup(search_result)    \n",
        "      rankings = soup.findAll(\"p\",{\"class\":\"lemon--p__373c0__3Qnnj text__373c0__2pB8f text-color--black-regular__373c0__38bRH text-align--left__373c0__2pnx_ text-size--inherit__373c0__2gFQ3\"})\n",
        "      for item in rankings:\n",
        "        if item.text[0:2]==\"1.\": #the first one in the result list\n",
        "          biz_url = yelp + item.a['href']\n",
        "          num_of_reviews = item.findNext(\"span\",{\"class\":\"lemon--span__373c0__3997G text__373c0__2pB8f reviewCount__373c0__2r4xT text-color--mid__373c0__3G312 text-align--left__373c0__2pnx_\"}).text.split()[0]\n",
        "          num_of_reviews = int(num_of_reviews)\n",
        "          \n",
        "      #print (biz_url)\n",
        "      print (num_of_reviews)\n",
        "      \n",
        "      extractReviews(biz_url, num_of_reviews, biz_id)\n",
        "\n",
        "                    "
      ],
      "execution_count": 0,
      "outputs": [
        {
          "output_type": "stream",
          "text": [
            "0 {\"business_id\":\"1SWheh84yJXfytovILXOAQ\",\"name\":\"Arizona Biltmore Golf Club\",\"address\":\"2818 E Camino Acequia Drive\",\"city\":\"Phoenix\",\"state\":\"AZ\",\"postal_code\":\"85016\",\"latitude\":33.5221425,\"longitude\":-112.0184807,\"stars\":3.0,\"review_count\":5,\"is_open\":0,\"attributes\":{\"GoodForKids\":\"False\"},\"categories\":\"Golf, Active Life\",\"hours\":null}\n",
            "\n",
            "1 {\"business_id\":\"QXAEGFB4oINsVuTFxEYKFQ\",\"name\":\"Emerald Chinese Restaurant\",\"address\":\"30 Eglinton Avenue W\",\"city\":\"Mississauga\",\"state\":\"ON\",\"postal_code\":\"L5R 3E7\",\"latitude\":43.6054989743,\"longitude\":-79.652288909,\"stars\":2.5,\"review_count\":128,\"is_open\":1,\"attributes\":{\"RestaurantsReservations\":\"True\",\"GoodForMeal\":\"{'dessert': False, 'latenight': False, 'lunch': True, 'dinner': True, 'brunch': False, 'breakfast': False}\",\"BusinessParking\":\"{'garage': False, 'street': False, 'validated': False, 'lot': True, 'valet': False}\",\"Caters\":\"True\",\"NoiseLevel\":\"u'loud'\",\"RestaurantsTableService\":\"True\",\"RestaurantsTakeOut\":\"True\",\"RestaurantsPriceRange2\":\"2\",\"OutdoorSeating\":\"False\",\"BikeParking\":\"False\",\"Ambience\":\"{'romantic': False, 'intimate': False, 'classy': False, 'hipster': False, 'divey': False, 'touristy': False, 'trendy': False, 'upscale': False, 'casual': True}\",\"HasTV\":\"False\",\"WiFi\":\"u'no'\",\"GoodForKids\":\"True\",\"Alcohol\":\"u'full_bar'\",\"RestaurantsAttire\":\"u'casual'\",\"RestaurantsGoodForGroups\":\"True\",\"RestaurantsDelivery\":\"False\"},\"categories\":\"Specialty Food, Restaurants, Dim Sum, Imported Food, Food, Chinese, Ethnic Food, Seafood\",\"hours\":{\"Monday\":\"9:0-0:0\",\"Tuesday\":\"9:0-0:0\",\"Wednesday\":\"9:0-0:0\",\"Thursday\":\"9:0-0:0\",\"Friday\":\"9:0-1:0\",\"Saturday\":\"9:0-1:0\",\"Sunday\":\"9:0-0:0\"}}\n",
            "\n",
            "2 {\"business_id\":\"gnKjwL_1w79qoiV3IC_xQQ\",\"name\":\"Musashi Japanese Restaurant\",\"address\":\"10110 Johnston Rd, Ste 15\",\"city\":\"Charlotte\",\"state\":\"NC\",\"postal_code\":\"28210\",\"latitude\":35.092564,\"longitude\":-80.859132,\"stars\":4.0,\"review_count\":170,\"is_open\":1,\"attributes\":{\"GoodForKids\":\"True\",\"NoiseLevel\":\"u'average'\",\"RestaurantsDelivery\":\"False\",\"GoodForMeal\":\"{'dessert': False, 'latenight': False, 'lunch': True, 'dinner': True, 'brunch': False, 'breakfast': False}\",\"Alcohol\":\"u'beer_and_wine'\",\"Caters\":\"False\",\"WiFi\":\"u'no'\",\"RestaurantsTakeOut\":\"True\",\"BusinessAcceptsCreditCards\":\"True\",\"Ambience\":\"{'romantic': False, 'intimate': False, 'touristy': False, 'hipster': False, 'divey': False, 'classy': False, 'trendy': False, 'upscale': False, 'casual': True}\",\"BusinessParking\":\"{'garage': False, 'street': False, 'validated': False, 'lot': True, 'valet': False}\",\"RestaurantsTableService\":\"True\",\"RestaurantsGoodForGroups\":\"True\",\"OutdoorSeating\":\"False\",\"HasTV\":\"True\",\"BikeParking\":\"True\",\"RestaurantsReservations\":\"True\",\"RestaurantsPriceRange2\":\"2\",\"RestaurantsAttire\":\"'casual'\"},\"categories\":\"Sushi Bars, Restaurants, Japanese\",\"hours\":{\"Monday\":\"17:30-21:30\",\"Wednesday\":\"17:30-21:30\",\"Thursday\":\"17:30-21:30\",\"Friday\":\"17:30-22:0\",\"Saturday\":\"17:30-22:0\",\"Sunday\":\"17:30-21:0\"}}\n",
            "\n",
            "3 {\"business_id\":\"xvX2CttrVhyG2z1dFg_0xw\",\"name\":\"Farmers Insurance - Paul Lorenz\",\"address\":\"15655 W Roosevelt St, Ste 237\",\"city\":\"Goodyear\",\"state\":\"AZ\",\"postal_code\":\"85338\",\"latitude\":33.4556129678,\"longitude\":-112.3955963552,\"stars\":5.0,\"review_count\":3,\"is_open\":1,\"attributes\":null,\"categories\":\"Insurance, Financial Services\",\"hours\":{\"Monday\":\"8:0-17:0\",\"Tuesday\":\"8:0-17:0\",\"Wednesday\":\"8:0-17:0\",\"Thursday\":\"8:0-17:0\",\"Friday\":\"8:0-17:0\"}}\n",
            "\n",
            "4 {\"business_id\":\"HhyxOkGAM07SRYtlQ4wMFQ\",\"name\":\"Queen City Plumbing\",\"address\":\"4209 Stuart Andrew Blvd, Ste F\",\"city\":\"Charlotte\",\"state\":\"NC\",\"postal_code\":\"28217\",\"latitude\":35.1900119,\"longitude\":-80.8872232,\"stars\":4.0,\"review_count\":4,\"is_open\":1,\"attributes\":{\"BusinessAcceptsBitcoin\":\"False\",\"ByAppointmentOnly\":\"True\",\"BusinessAcceptsCreditCards\":\"True\"},\"categories\":\"Plumbing, Shopping, Local Services, Home Services, Kitchen & Bath, Home & Garden, Water Heater Installation\\/Repair\",\"hours\":{\"Monday\":\"7:0-23:0\",\"Tuesday\":\"7:0-23:0\",\"Wednesday\":\"7:0-23:0\",\"Thursday\":\"7:0-23:0\",\"Friday\":\"7:0-23:0\",\"Saturday\":\"7:0-23:0\",\"Sunday\":\"7:0-23:0\"}}\n",
            "\n",
            "5 {\"business_id\":\"68dUKd8_8liJ7in4aWOSEA\",\"name\":\"The UPS Store\",\"address\":\"Credit Valley Town Plaza, F2 - 6045 Creditview Rd\",\"city\":\"Mississauga\",\"state\":\"ON\",\"postal_code\":\"L5V 0B1\",\"latitude\":43.5994753,\"longitude\":-79.7115835,\"stars\":2.5,\"review_count\":3,\"is_open\":1,\"attributes\":{\"BusinessParking\":\"{'garage': False, 'street': False, 'validated': False, 'lot': False, 'valet': False}\",\"RestaurantsPriceRange2\":\"2\"},\"categories\":\"Shipping Centers, Couriers & Delivery Services, Local Services, Printing Services\",\"hours\":{\"Monday\":\"9:0-19:0\",\"Tuesday\":\"9:0-20:0\",\"Wednesday\":\"9:0-20:0\",\"Thursday\":\"9:0-20:0\",\"Friday\":\"9:0-19:0\",\"Saturday\":\"10:0-16:0\"}}\n",
            "\n",
            "6 {\"business_id\":\"5JucpCfHZltJh5r1JabjDg\",\"name\":\"Edgeworxx Studio\",\"address\":\"20 Douglas Woods Drive Southeast\",\"city\":\"Calgary\",\"state\":\"AB\",\"postal_code\":\"T2Z 1K4\",\"latitude\":50.9436456,\"longitude\":-114.0018283,\"stars\":3.5,\"review_count\":7,\"is_open\":1,\"attributes\":{\"RestaurantsPriceRange2\":\"2\",\"BusinessParking\":\"{'garage': False, 'street': False, 'validated': False, 'lot': True, 'valet': False}\",\"ByAppointmentOnly\":\"True\"},\"categories\":\"Beauty & Spas, Hair Salons\",\"hours\":null}\n",
            "\n",
            "7 {\"business_id\":\"gbQN7vr_caG_A1ugSmGhWg\",\"name\":\"Supercuts\",\"address\":\"4545 E Tropicana Rd Ste 8, Tropicana\",\"city\":\"Las Vegas\",\"state\":\"NV\",\"postal_code\":\"89121\",\"latitude\":36.099872,\"longitude\":-115.074574,\"stars\":3.5,\"review_count\":3,\"is_open\":1,\"attributes\":{\"RestaurantsPriceRange2\":\"3\",\"GoodForKids\":\"True\",\"BusinessAcceptsCreditCards\":\"True\",\"ByAppointmentOnly\":\"False\",\"BikeParking\":\"False\"},\"categories\":\"Hair Salons, Hair Stylists, Barbers, Men's Hair Salons, Cosmetics & Beauty Supply, Shopping, Beauty & Spas\",\"hours\":{\"Monday\":\"10:0-19:0\",\"Tuesday\":\"10:0-19:0\",\"Wednesday\":\"10:0-19:0\",\"Thursday\":\"10:0-19:0\",\"Friday\":\"10:0-19:0\",\"Saturday\":\"10:0-19:0\",\"Sunday\":\"10:0-18:0\"}}\n",
            "\n",
            "8 {\"business_id\":\"Y6iyemLX_oylRpnr38vgMA\",\"name\":\"Vita Bella Fine Day Spa\",\"address\":\"5940 W Union Hills Dr\",\"city\":\"Glendale\",\"state\":\"AZ\",\"postal_code\":\"85308\",\"latitude\":33.6548146,\"longitude\":-112.1885676,\"stars\":5.0,\"review_count\":8,\"is_open\":0,\"attributes\":{\"RestaurantsPriceRange2\":\"2\",\"ByAppointmentOnly\":\"True\",\"BusinessParking\":\"{'garage': False, 'street': False, 'validated': False, 'lot': True, 'valet': False}\",\"BusinessAcceptsCreditCards\":\"True\",\"BikeParking\":\"False\"},\"categories\":\"Nail Salons, Beauty & Spas, Day Spas\",\"hours\":{\"Tuesday\":\"12:0-18:0\",\"Wednesday\":\"10:0-18:0\",\"Thursday\":\"12:0-18:0\",\"Friday\":\"10:0-17:0\",\"Saturday\":\"10:0-14:0\"}}\n",
            "\n",
            "9 {\"business_id\":\"4GBVPIYRvzGh4K4TkRQ_rw\",\"name\":\"Options Salon & Spa\",\"address\":\"21689 Lorain Rd\",\"city\":\"Fairview Park\",\"state\":\"OH\",\"postal_code\":\"44126\",\"latitude\":41.4408252653,\"longitude\":-81.8540965503,\"stars\":4.5,\"review_count\":8,\"is_open\":1,\"attributes\":{\"ByAppointmentOnly\":\"False\",\"BusinessAcceptsCreditCards\":\"True\",\"RestaurantsPriceRange2\":\"2\",\"BusinessParking\":\"{'garage': False, 'street': False, 'validated': False, 'lot': True, 'valet': False}\",\"AcceptsInsurance\":\"False\"},\"categories\":\"Beauty & Spas, Nail Salons, Day Spas, Massage\",\"hours\":{\"Tuesday\":\"9:0-21:0\",\"Wednesday\":\"9:0-21:0\",\"Thursday\":\"9:0-21:0\",\"Friday\":\"9:0-19:0\",\"Saturday\":\"9:0-16:0\"}}\n",
            "\n",
            "10 {\"business_id\":\"fcXOEZdXYeZqnQ3lGlOXmg\",\"name\":\"Nucleus Information Service\",\"address\":\"1210 8th Street SW, Unit 220\",\"city\":\"Calgary\",\"state\":\"AB\",\"postal_code\":\"T2R 1L3\",\"latitude\":51.041771,\"longitude\":-114.081109,\"stars\":2.0,\"review_count\":5,\"is_open\":1,\"attributes\":{\"BikeParking\":\"False\",\"ByAppointmentOnly\":\"False\",\"BusinessParking\":\"{'garage': False, 'street': True, 'validated': False, 'lot': False, 'valet': False}\",\"RestaurantsPriceRange2\":\"1\"},\"categories\":\"Local Services, Professional Services, Computers, Shopping, Home Services, IT Services & Computer Repair, Internet Service Providers, Web Design\",\"hours\":{\"Monday\":\"9:0-17:0\",\"Tuesday\":\"9:0-17:0\",\"Wednesday\":\"9:0-17:0\",\"Thursday\":\"9:0-17:0\",\"Friday\":\"9:0-17:0\"}}\n",
            "\n",
            "11 {\"business_id\":\"1Dfx3zM-rW4n-31KeC8sJg\",\"name\":\"Taco Bell\",\"address\":\"2450 E Indian School Rd\",\"city\":\"Phoenix\",\"state\":\"AZ\",\"postal_code\":\"85016\",\"latitude\":33.4951941,\"longitude\":-112.0285876,\"stars\":3.0,\"review_count\":18,\"is_open\":1,\"attributes\":{\"RestaurantsTakeOut\":\"True\",\"BusinessParking\":\"{'garage': False, 'street': False, 'validated': False, 'lot': False, 'valet': False}\",\"WiFi\":\"u'no'\",\"RestaurantsDelivery\":\"False\",\"OutdoorSeating\":\"False\",\"RestaurantsAttire\":\"u'casual'\",\"BusinessAcceptsCreditCards\":\"True\",\"RestaurantsGoodForGroups\":\"True\",\"RestaurantsReservations\":\"False\",\"HasTV\":\"False\",\"Ambience\":\"{'romantic': False, 'intimate': False, 'touristy': False, 'hipster': False, 'divey': False, 'classy': False, 'trendy': False, 'upscale': False, 'casual': False}\",\"Alcohol\":\"u'none'\",\"RestaurantsPriceRange2\":\"1\",\"GoodForKids\":\"True\"},\"categories\":\"Restaurants, Breakfast & Brunch, Mexican, Tacos, Tex-Mex, Fast Food\",\"hours\":{\"Monday\":\"7:0-0:0\",\"Tuesday\":\"7:0-0:0\",\"Wednesday\":\"7:0-0:0\",\"Thursday\":\"7:0-1:0\",\"Friday\":\"7:0-1:0\",\"Saturday\":\"7:0-1:0\",\"Sunday\":\"7:0-0:0\"}}\n",
            "\n",
            "12 {\"business_id\":\"5t3KVdMnFgAYmSl1wYLhmA\",\"name\":\"The Kilted Buffalo Langtree\",\"address\":\"119 Landings Dr, Ste 101\",\"city\":\"Mooresville\",\"state\":\"NC\",\"postal_code\":\"28117\",\"latitude\":35.5274098057,\"longitude\":-80.8680032061,\"stars\":3.5,\"review_count\":9,\"is_open\":1,\"attributes\":{\"BusinessParking\":\"{'garage': False, 'street': False, 'validated': False, 'lot': False, 'valet': False}\",\"Ambience\":\"{'touristy': False, 'hipster': False, 'romantic': False, 'divey': False, 'intimate': False, 'trendy': False, 'upscale': False, 'classy': False, 'casual': False}\",\"Music\":\"{'dj': False, 'background_music': False, 'no_music': False, 'jukebox': False, 'live': False, 'video': False, 'karaoke': False}\",\"BikeParking\":\"True\",\"OutdoorSeating\":\"True\",\"GoodForKids\":\"False\",\"NoiseLevel\":\"'average'\",\"RestaurantsGoodForGroups\":\"True\",\"GoodForDancing\":\"True\",\"CoatCheck\":\"False\",\"WiFi\":\"'free'\",\"RestaurantsPriceRange2\":\"1\",\"HappyHour\":\"True\",\"Alcohol\":\"'beer_and_wine'\",\"ByAppointmentOnly\":\"False\",\"HasTV\":\"True\",\"RestaurantsReservations\":\"True\",\"BusinessAcceptsCreditCards\":\"True\",\"BestNights\":\"{'monday': False, 'tuesday': False, 'friday': False, 'wednesday': False, 'thursday': True, 'sunday': False, 'saturday': True}\"},\"categories\":\"Bars, Nightlife, Pubs, Barbers, Beauty & Spas, Irish Pub\",\"hours\":{\"Monday\":\"10:0-1:0\",\"Tuesday\":\"10:0-1:0\",\"Wednesday\":\"10:0-1:0\",\"Thursday\":\"10:0-1:0\",\"Friday\":\"10:0-1:0\",\"Saturday\":\"10:0-1:0\",\"Sunday\":\"12:0-1:0\"}}\n",
            "\n",
            "13 {\"business_id\":\"fweCYi8FmbJXHCqLnwuk8w\",\"name\":\"Marco's Pizza\",\"address\":\"5981 Andrews Rd\",\"city\":\"Mentor-on-the-Lake\",\"state\":\"OH\",\"postal_code\":\"44060\",\"latitude\":41.70852,\"longitude\":-81.359556,\"stars\":4.0,\"review_count\":16,\"is_open\":1,\"attributes\":{\"RestaurantsPriceRange2\":\"2\",\"BusinessAcceptsCreditCards\":\"True\",\"GoodForKids\":\"True\",\"RestaurantsDelivery\":\"True\",\"Alcohol\":\"u'none'\",\"OutdoorSeating\":\"False\",\"RestaurantsGoodForGroups\":\"True\",\"RestaurantsTakeOut\":\"True\",\"RestaurantsReservations\":\"False\",\"BikeParking\":\"True\",\"RestaurantsAttire\":\"u'casual'\",\"Ambience\":\"None\",\"BusinessParking\":\"None\"},\"categories\":\"Italian, Restaurants, Pizza, Chicken Wings\",\"hours\":{\"Monday\":\"10:0-0:0\",\"Tuesday\":\"10:0-0:0\",\"Wednesday\":\"10:0-0:0\",\"Thursday\":\"10:0-0:0\",\"Friday\":\"10:0-1:0\",\"Saturday\":\"10:0-1:0\",\"Sunday\":\"10:0-0:0\"}}\n",
            "\n",
            "14 {\"business_id\":\"-K4gAv8_vjx8-2BxkVeRkA\",\"name\":\"Baby Cakes\",\"address\":\"4145 Erie St\",\"city\":\"Willoughby\",\"state\":\"OH\",\"postal_code\":\"44094\",\"latitude\":41.6398599,\"longitude\":-81.4063963,\"stars\":3.0,\"review_count\":7,\"is_open\":1,\"attributes\":{\"RestaurantsTakeOut\":\"True\",\"BusinessParking\":\"{'garage': False, 'street': False, 'validated': False, 'lot': False, 'valet': False}\",\"RestaurantsPriceRange2\":\"1\",\"BusinessAcceptsCreditCards\":\"True\",\"RestaurantsDelivery\":\"False\"},\"categories\":\"Bakeries, Food\",\"hours\":{\"Tuesday\":\"11:0-17:0\",\"Wednesday\":\"11:0-17:0\",\"Thursday\":\"11:0-20:0\",\"Friday\":\"11:0-17:0\",\"Saturday\":\"10:0-17:0\"}}\n",
            "\n",
            "15 {\"business_id\":\"A98xW4qb7vOTguggHFs7Ng\",\"name\":\"Hot Yoga Wellness\",\"address\":\"1455 16th Avenue\",\"city\":\"Richmond Hill\",\"state\":\"ON\",\"postal_code\":\"L4B 3G6\",\"latitude\":43.861502576,\"longitude\":-79.3884991854,\"stars\":4.0,\"review_count\":4,\"is_open\":1,\"attributes\":{\"ByAppointmentOnly\":\"False\",\"BikeParking\":\"True\",\"WheelchairAccessible\":\"False\",\"BusinessParking\":\"{'garage': False, 'street': False, 'validated': False, 'lot': True, 'valet': False}\",\"DogsAllowed\":\"False\"},\"categories\":\"Fitness & Instruction, Active Life, Yoga\",\"hours\":{\"Monday\":\"16:0-23:0\",\"Tuesday\":\"16:0-23:0\",\"Wednesday\":\"16:0-23:0\",\"Thursday\":\"16:0-23:0\",\"Friday\":\"16:0-21:30\",\"Saturday\":\"15:30-17:30\",\"Sunday\":\"17:30-19:45\"}}\n",
            "\n",
            "16 {\"business_id\":\"giC3pVVFxCRR89rApqklyw\",\"name\":\"Knot Salon\",\"address\":\"4848 E Cactus Rd, Ste 100\",\"city\":\"Scottsdale\",\"state\":\"AZ\",\"postal_code\":\"85254\",\"latitude\":33.600071,\"longitude\":-111.977371,\"stars\":5.0,\"review_count\":5,\"is_open\":1,\"attributes\":{\"BusinessAcceptsCreditCards\":\"True\",\"BusinessParking\":\"{'garage': False, 'street': False, 'validated': False, 'lot': False, 'valet': False}\",\"GoodForKids\":\"True\",\"RestaurantsPriceRange2\":\"2\",\"ByAppointmentOnly\":\"True\"},\"categories\":\"Hair Stylists, Beauty & Spas, Hair Salons, Men's Hair Salons\",\"hours\":{\"Monday\":\"0:0-0:0\",\"Tuesday\":\"9:0-19:0\",\"Wednesday\":\"9:0-17:0\",\"Thursday\":\"9:0-19:0\",\"Friday\":\"8:0-17:0\",\"Saturday\":\"8:0-17:0\"}}\n",
            "\n",
            "17 {\"business_id\":\"PZ-LZzSlhSe9utkQYU8pFg\",\"name\":\"Carluccio's Tivoli Gardens\",\"address\":\"1775 E Tropicana Ave, Ste 29\",\"city\":\"Las Vegas\",\"state\":\"NV\",\"postal_code\":\"89119\",\"latitude\":36.1000163,\"longitude\":-115.1285285,\"stars\":4.0,\"review_count\":40,\"is_open\":0,\"attributes\":{\"OutdoorSeating\":\"False\",\"BusinessAcceptsCreditCards\":\"True\",\"RestaurantsDelivery\":\"False\",\"RestaurantsReservations\":\"True\",\"RestaurantsAttire\":\"'casual'\",\"Ambience\":\"{'romantic': True, 'intimate': False, 'touristy': False, 'hipster': False, 'divey': False, 'classy': True, 'trendy': False, 'upscale': False, 'casual': False}\",\"HasTV\":\"False\",\"BYOBCorkage\":\"'no'\",\"NoiseLevel\":\"u'quiet'\",\"RestaurantsTakeOut\":\"True\",\"RestaurantsPriceRange2\":\"2\",\"RestaurantsGoodForGroups\":\"True\",\"WiFi\":\"u'no'\",\"Caters\":\"True\",\"GoodForKids\":\"True\",\"Alcohol\":\"u'full_bar'\",\"BusinessParking\":\"{'garage': False, 'street': False, 'validated': False, 'lot': True, 'valet': False}\"},\"categories\":\"Restaurants, Italian\",\"hours\":null}\n",
            "\n",
            "18 {\"business_id\":\"nh_kQ16QAoXWwqZ05MPfBQ\",\"name\":\"Myron Hensel Photography\",\"address\":\"\",\"city\":\"Las Vegas\",\"state\":\"NV\",\"postal_code\":\"89121\",\"latitude\":36.1165487,\"longitude\":-115.0881146,\"stars\":5.0,\"review_count\":21,\"is_open\":1,\"attributes\":{\"BusinessAcceptsCreditCards\":\"True\"},\"categories\":\"Event Planning & Services, Photographers, Professional Services\",\"hours\":{\"Monday\":\"0:0-0:0\",\"Tuesday\":\"0:0-0:0\",\"Wednesday\":\"0:0-0:0\",\"Thursday\":\"0:0-0:0\",\"Friday\":\"0:0-0:0\",\"Saturday\":\"0:0-0:0\",\"Sunday\":\"0:0-0:0\"}}\n",
            "\n",
            "19 {\"business_id\":\"zSpQmEBvRe3IhTUlMSA6HQ\",\"name\":\"Totum Life Science\",\"address\":\"445 King Street W, Suite 101\",\"city\":\"Toronto\",\"state\":\"ON\",\"postal_code\":\"M5V 1K4\",\"latitude\":43.6450415,\"longitude\":-79.3957986,\"stars\":4.0,\"review_count\":23,\"is_open\":1,\"attributes\":{\"AcceptsInsurance\":\"True\",\"ByAppointmentOnly\":\"False\",\"GoodForKids\":\"False\",\"WheelchairAccessible\":\"False\"},\"categories\":\"Trainers, Health & Medical, Active Life, Physical Therapy, Gyms, Fitness & Instruction\",\"hours\":{\"Monday\":\"6:0-22:0\",\"Tuesday\":\"6:0-22:0\",\"Wednesday\":\"6:0-22:0\",\"Thursday\":\"6:0-22:0\",\"Friday\":\"6:0-22:0\",\"Saturday\":\"8:0-18:0\",\"Sunday\":\"9:0-18:0\"}}\n",
            "\n",
            "Totum Life Science\n",
            "https://www.yelp.com/search?find_desc=Totum%20Life%20Science&find_loc=M5V%201K4\n"
          ],
          "name": "stdout"
        },
        {
          "output_type": "error",
          "ename": "HTTPError",
          "evalue": "ignored",
          "traceback": [
            "\u001b[0;31m---------------------------------------------------------------------------\u001b[0m",
            "\u001b[0;31mHTTPError\u001b[0m                                 Traceback (most recent call last)",
            "\u001b[0;32m<ipython-input-63-d5e2b99f880d>\u001b[0m in \u001b[0;36m<module>\u001b[0;34m()\u001b[0m\n\u001b[1;32m     29\u001b[0m       \u001b[0msearch_url\u001b[0m \u001b[0;34m=\u001b[0m \u001b[0myelp\u001b[0m\u001b[0;34m+\u001b[0m\u001b[0;34m\"/search?find_desc=\"\u001b[0m\u001b[0;34m+\u001b[0m\u001b[0mtransURL\u001b[0m\u001b[0;34m(\u001b[0m\u001b[0mbiz_name\u001b[0m\u001b[0;34m)\u001b[0m\u001b[0;34m+\u001b[0m\u001b[0;34m\"&find_loc=\"\u001b[0m\u001b[0;34m+\u001b[0m\u001b[0mtransURL\u001b[0m\u001b[0;34m(\u001b[0m\u001b[0mbiz_postal\u001b[0m\u001b[0;34m)\u001b[0m\u001b[0;34m\u001b[0m\u001b[0;34m\u001b[0m\u001b[0m\n\u001b[1;32m     30\u001b[0m       \u001b[0mprint\u001b[0m \u001b[0;34m(\u001b[0m\u001b[0msearch_url\u001b[0m\u001b[0;34m)\u001b[0m\u001b[0;34m\u001b[0m\u001b[0;34m\u001b[0m\u001b[0m\n\u001b[0;32m---> 31\u001b[0;31m       \u001b[0msearch_result\u001b[0m \u001b[0;34m=\u001b[0m \u001b[0murllib\u001b[0m\u001b[0;34m.\u001b[0m\u001b[0mrequest\u001b[0m\u001b[0;34m.\u001b[0m\u001b[0murlopen\u001b[0m\u001b[0;34m(\u001b[0m\u001b[0msearch_url\u001b[0m\u001b[0;34m)\u001b[0m\u001b[0;34m\u001b[0m\u001b[0;34m\u001b[0m\u001b[0m\n\u001b[0m\u001b[1;32m     32\u001b[0m       \u001b[0msoup\u001b[0m \u001b[0;34m=\u001b[0m \u001b[0mBeautifulSoup\u001b[0m\u001b[0;34m(\u001b[0m\u001b[0msearch_result\u001b[0m\u001b[0;34m)\u001b[0m\u001b[0;34m\u001b[0m\u001b[0;34m\u001b[0m\u001b[0m\n\u001b[1;32m     33\u001b[0m       \u001b[0mrankings\u001b[0m \u001b[0;34m=\u001b[0m \u001b[0msoup\u001b[0m\u001b[0;34m.\u001b[0m\u001b[0mfindAll\u001b[0m\u001b[0;34m(\u001b[0m\u001b[0;34m\"p\"\u001b[0m\u001b[0;34m,\u001b[0m\u001b[0;34m{\u001b[0m\u001b[0;34m\"class\"\u001b[0m\u001b[0;34m:\u001b[0m\u001b[0;34m\"lemon--p__373c0__3Qnnj text__373c0__2pB8f text-color--black-regular__373c0__38bRH text-align--left__373c0__2pnx_ text-size--inherit__373c0__2gFQ3\"\u001b[0m\u001b[0;34m}\u001b[0m\u001b[0;34m)\u001b[0m\u001b[0;34m\u001b[0m\u001b[0;34m\u001b[0m\u001b[0m\n",
            "\u001b[0;32m/usr/lib/python3.6/urllib/request.py\u001b[0m in \u001b[0;36murlopen\u001b[0;34m(url, data, timeout, cafile, capath, cadefault, context)\u001b[0m\n\u001b[1;32m    221\u001b[0m     \u001b[0;32melse\u001b[0m\u001b[0;34m:\u001b[0m\u001b[0;34m\u001b[0m\u001b[0;34m\u001b[0m\u001b[0m\n\u001b[1;32m    222\u001b[0m         \u001b[0mopener\u001b[0m \u001b[0;34m=\u001b[0m \u001b[0m_opener\u001b[0m\u001b[0;34m\u001b[0m\u001b[0;34m\u001b[0m\u001b[0m\n\u001b[0;32m--> 223\u001b[0;31m     \u001b[0;32mreturn\u001b[0m \u001b[0mopener\u001b[0m\u001b[0;34m.\u001b[0m\u001b[0mopen\u001b[0m\u001b[0;34m(\u001b[0m\u001b[0murl\u001b[0m\u001b[0;34m,\u001b[0m \u001b[0mdata\u001b[0m\u001b[0;34m,\u001b[0m \u001b[0mtimeout\u001b[0m\u001b[0;34m)\u001b[0m\u001b[0;34m\u001b[0m\u001b[0;34m\u001b[0m\u001b[0m\n\u001b[0m\u001b[1;32m    224\u001b[0m \u001b[0;34m\u001b[0m\u001b[0m\n\u001b[1;32m    225\u001b[0m \u001b[0;32mdef\u001b[0m \u001b[0minstall_opener\u001b[0m\u001b[0;34m(\u001b[0m\u001b[0mopener\u001b[0m\u001b[0;34m)\u001b[0m\u001b[0;34m:\u001b[0m\u001b[0;34m\u001b[0m\u001b[0;34m\u001b[0m\u001b[0m\n",
            "\u001b[0;32m/usr/lib/python3.6/urllib/request.py\u001b[0m in \u001b[0;36mopen\u001b[0;34m(self, fullurl, data, timeout)\u001b[0m\n\u001b[1;32m    530\u001b[0m         \u001b[0;32mfor\u001b[0m \u001b[0mprocessor\u001b[0m \u001b[0;32min\u001b[0m \u001b[0mself\u001b[0m\u001b[0;34m.\u001b[0m\u001b[0mprocess_response\u001b[0m\u001b[0;34m.\u001b[0m\u001b[0mget\u001b[0m\u001b[0;34m(\u001b[0m\u001b[0mprotocol\u001b[0m\u001b[0;34m,\u001b[0m \u001b[0;34m[\u001b[0m\u001b[0;34m]\u001b[0m\u001b[0;34m)\u001b[0m\u001b[0;34m:\u001b[0m\u001b[0;34m\u001b[0m\u001b[0;34m\u001b[0m\u001b[0m\n\u001b[1;32m    531\u001b[0m             \u001b[0mmeth\u001b[0m \u001b[0;34m=\u001b[0m \u001b[0mgetattr\u001b[0m\u001b[0;34m(\u001b[0m\u001b[0mprocessor\u001b[0m\u001b[0;34m,\u001b[0m \u001b[0mmeth_name\u001b[0m\u001b[0;34m)\u001b[0m\u001b[0;34m\u001b[0m\u001b[0;34m\u001b[0m\u001b[0m\n\u001b[0;32m--> 532\u001b[0;31m             \u001b[0mresponse\u001b[0m \u001b[0;34m=\u001b[0m \u001b[0mmeth\u001b[0m\u001b[0;34m(\u001b[0m\u001b[0mreq\u001b[0m\u001b[0;34m,\u001b[0m \u001b[0mresponse\u001b[0m\u001b[0;34m)\u001b[0m\u001b[0;34m\u001b[0m\u001b[0;34m\u001b[0m\u001b[0m\n\u001b[0m\u001b[1;32m    533\u001b[0m \u001b[0;34m\u001b[0m\u001b[0m\n\u001b[1;32m    534\u001b[0m         \u001b[0;32mreturn\u001b[0m \u001b[0mresponse\u001b[0m\u001b[0;34m\u001b[0m\u001b[0;34m\u001b[0m\u001b[0m\n",
            "\u001b[0;32m/usr/lib/python3.6/urllib/request.py\u001b[0m in \u001b[0;36mhttp_response\u001b[0;34m(self, request, response)\u001b[0m\n\u001b[1;32m    640\u001b[0m         \u001b[0;32mif\u001b[0m \u001b[0;32mnot\u001b[0m \u001b[0;34m(\u001b[0m\u001b[0;36m200\u001b[0m \u001b[0;34m<=\u001b[0m \u001b[0mcode\u001b[0m \u001b[0;34m<\u001b[0m \u001b[0;36m300\u001b[0m\u001b[0;34m)\u001b[0m\u001b[0;34m:\u001b[0m\u001b[0;34m\u001b[0m\u001b[0;34m\u001b[0m\u001b[0m\n\u001b[1;32m    641\u001b[0m             response = self.parent.error(\n\u001b[0;32m--> 642\u001b[0;31m                 'http', request, response, code, msg, hdrs)\n\u001b[0m\u001b[1;32m    643\u001b[0m \u001b[0;34m\u001b[0m\u001b[0m\n\u001b[1;32m    644\u001b[0m         \u001b[0;32mreturn\u001b[0m \u001b[0mresponse\u001b[0m\u001b[0;34m\u001b[0m\u001b[0;34m\u001b[0m\u001b[0m\n",
            "\u001b[0;32m/usr/lib/python3.6/urllib/request.py\u001b[0m in \u001b[0;36merror\u001b[0;34m(self, proto, *args)\u001b[0m\n\u001b[1;32m    568\u001b[0m         \u001b[0;32mif\u001b[0m \u001b[0mhttp_err\u001b[0m\u001b[0;34m:\u001b[0m\u001b[0;34m\u001b[0m\u001b[0;34m\u001b[0m\u001b[0m\n\u001b[1;32m    569\u001b[0m             \u001b[0margs\u001b[0m \u001b[0;34m=\u001b[0m \u001b[0;34m(\u001b[0m\u001b[0mdict\u001b[0m\u001b[0;34m,\u001b[0m \u001b[0;34m'default'\u001b[0m\u001b[0;34m,\u001b[0m \u001b[0;34m'http_error_default'\u001b[0m\u001b[0;34m)\u001b[0m \u001b[0;34m+\u001b[0m \u001b[0morig_args\u001b[0m\u001b[0;34m\u001b[0m\u001b[0;34m\u001b[0m\u001b[0m\n\u001b[0;32m--> 570\u001b[0;31m             \u001b[0;32mreturn\u001b[0m \u001b[0mself\u001b[0m\u001b[0;34m.\u001b[0m\u001b[0m_call_chain\u001b[0m\u001b[0;34m(\u001b[0m\u001b[0;34m*\u001b[0m\u001b[0margs\u001b[0m\u001b[0;34m)\u001b[0m\u001b[0;34m\u001b[0m\u001b[0;34m\u001b[0m\u001b[0m\n\u001b[0m\u001b[1;32m    571\u001b[0m \u001b[0;34m\u001b[0m\u001b[0m\n\u001b[1;32m    572\u001b[0m \u001b[0;31m# XXX probably also want an abstract factory that knows when it makes\u001b[0m\u001b[0;34m\u001b[0m\u001b[0;34m\u001b[0m\u001b[0;34m\u001b[0m\u001b[0m\n",
            "\u001b[0;32m/usr/lib/python3.6/urllib/request.py\u001b[0m in \u001b[0;36m_call_chain\u001b[0;34m(self, chain, kind, meth_name, *args)\u001b[0m\n\u001b[1;32m    502\u001b[0m         \u001b[0;32mfor\u001b[0m \u001b[0mhandler\u001b[0m \u001b[0;32min\u001b[0m \u001b[0mhandlers\u001b[0m\u001b[0;34m:\u001b[0m\u001b[0;34m\u001b[0m\u001b[0;34m\u001b[0m\u001b[0m\n\u001b[1;32m    503\u001b[0m             \u001b[0mfunc\u001b[0m \u001b[0;34m=\u001b[0m \u001b[0mgetattr\u001b[0m\u001b[0;34m(\u001b[0m\u001b[0mhandler\u001b[0m\u001b[0;34m,\u001b[0m \u001b[0mmeth_name\u001b[0m\u001b[0;34m)\u001b[0m\u001b[0;34m\u001b[0m\u001b[0;34m\u001b[0m\u001b[0m\n\u001b[0;32m--> 504\u001b[0;31m             \u001b[0mresult\u001b[0m \u001b[0;34m=\u001b[0m \u001b[0mfunc\u001b[0m\u001b[0;34m(\u001b[0m\u001b[0;34m*\u001b[0m\u001b[0margs\u001b[0m\u001b[0;34m)\u001b[0m\u001b[0;34m\u001b[0m\u001b[0;34m\u001b[0m\u001b[0m\n\u001b[0m\u001b[1;32m    505\u001b[0m             \u001b[0;32mif\u001b[0m \u001b[0mresult\u001b[0m \u001b[0;32mis\u001b[0m \u001b[0;32mnot\u001b[0m \u001b[0;32mNone\u001b[0m\u001b[0;34m:\u001b[0m\u001b[0;34m\u001b[0m\u001b[0;34m\u001b[0m\u001b[0m\n\u001b[1;32m    506\u001b[0m                 \u001b[0;32mreturn\u001b[0m \u001b[0mresult\u001b[0m\u001b[0;34m\u001b[0m\u001b[0;34m\u001b[0m\u001b[0m\n",
            "\u001b[0;32m/usr/lib/python3.6/urllib/request.py\u001b[0m in \u001b[0;36mhttp_error_default\u001b[0;34m(self, req, fp, code, msg, hdrs)\u001b[0m\n\u001b[1;32m    648\u001b[0m \u001b[0;32mclass\u001b[0m \u001b[0mHTTPDefaultErrorHandler\u001b[0m\u001b[0;34m(\u001b[0m\u001b[0mBaseHandler\u001b[0m\u001b[0;34m)\u001b[0m\u001b[0;34m:\u001b[0m\u001b[0;34m\u001b[0m\u001b[0;34m\u001b[0m\u001b[0m\n\u001b[1;32m    649\u001b[0m     \u001b[0;32mdef\u001b[0m \u001b[0mhttp_error_default\u001b[0m\u001b[0;34m(\u001b[0m\u001b[0mself\u001b[0m\u001b[0;34m,\u001b[0m \u001b[0mreq\u001b[0m\u001b[0;34m,\u001b[0m \u001b[0mfp\u001b[0m\u001b[0;34m,\u001b[0m \u001b[0mcode\u001b[0m\u001b[0;34m,\u001b[0m \u001b[0mmsg\u001b[0m\u001b[0;34m,\u001b[0m \u001b[0mhdrs\u001b[0m\u001b[0;34m)\u001b[0m\u001b[0;34m:\u001b[0m\u001b[0;34m\u001b[0m\u001b[0;34m\u001b[0m\u001b[0m\n\u001b[0;32m--> 650\u001b[0;31m         \u001b[0;32mraise\u001b[0m \u001b[0mHTTPError\u001b[0m\u001b[0;34m(\u001b[0m\u001b[0mreq\u001b[0m\u001b[0;34m.\u001b[0m\u001b[0mfull_url\u001b[0m\u001b[0;34m,\u001b[0m \u001b[0mcode\u001b[0m\u001b[0;34m,\u001b[0m \u001b[0mmsg\u001b[0m\u001b[0;34m,\u001b[0m \u001b[0mhdrs\u001b[0m\u001b[0;34m,\u001b[0m \u001b[0mfp\u001b[0m\u001b[0;34m)\u001b[0m\u001b[0;34m\u001b[0m\u001b[0;34m\u001b[0m\u001b[0m\n\u001b[0m\u001b[1;32m    651\u001b[0m \u001b[0;34m\u001b[0m\u001b[0m\n\u001b[1;32m    652\u001b[0m \u001b[0;32mclass\u001b[0m \u001b[0mHTTPRedirectHandler\u001b[0m\u001b[0;34m(\u001b[0m\u001b[0mBaseHandler\u001b[0m\u001b[0;34m)\u001b[0m\u001b[0;34m:\u001b[0m\u001b[0;34m\u001b[0m\u001b[0;34m\u001b[0m\u001b[0m\n",
            "\u001b[0;31mHTTPError\u001b[0m: HTTP Error 503: Service Unavailable"
          ]
        }
      ]
    },
    {
      "cell_type": "code",
      "metadata": {
        "id": "xMxf4e7ueZlJ",
        "colab_type": "code",
        "outputId": "dbfc346a-3269-44be-dc0e-158cb142e9ab",
        "colab": {
          "base_uri": "https://localhost:8080/",
          "height": 245
        }
      },
      "source": [
        "ids = ['mTbfremTz0Ev8UPzaoA-Zg',\n",
        "'2zcUbKwnl2RIGnmtQh6gcA',\n",
        "'6vB_8HIQGxsuJgHMzViOyg',\n",
        "'1wnq0tSuIvzCp0rInC6t3A',\n",
        "'yFOnkrLsGC0_-aEEAU0ghw',\n",
        "'wLJhwxSY0DZFPx9133z1PA',\n",
        "'bKhXOXuK4smzHJNO7BIJjg',\n",
        "'Lu2sDbQBQ3rwKzHnLvGJ9w',\n",
        "'fjrH7pwOtQE-q9IsSHWrFA',\n",
        "'sD1rd8TjHbsEgUaXfvWnEA',\n",
        "'07cHVHW7QZEyxI7XXufMWA',\n",
        "'suC3ojSIGDtipxGwuCYzPQ',\n",
        "'FYxFGv7H3_ep9ySk_dGRPA',\n",
        "'Zz1Io406Gym-185LfSvgoA',\n",
        "'B4nPQZosVDsZ2jQPsD9kNg',\n",
        "'M0wwJYzp-YJLhrEGYnubMA']\n",
        "\n",
        "\n",
        "with open('/content/drive/My Drive/Yelp/yelp_dataset/user.json', 'r') as user_inf:\n",
        "  for id, line in enumerate(user_inf):\n",
        "    print (line)\n",
        "  "
      ],
      "execution_count": 2,
      "outputs": [
        {
          "output_type": "error",
          "ename": "FileNotFoundError",
          "evalue": "ignored",
          "traceback": [
            "\u001b[0;31m---------------------------------------------------------------------------\u001b[0m",
            "\u001b[0;31mFileNotFoundError\u001b[0m                         Traceback (most recent call last)",
            "\u001b[0;32m<ipython-input-2-9309c0c23489>\u001b[0m in \u001b[0;36m<module>\u001b[0;34m()\u001b[0m\n\u001b[1;32m     17\u001b[0m \u001b[0;34m\u001b[0m\u001b[0m\n\u001b[1;32m     18\u001b[0m \u001b[0;34m\u001b[0m\u001b[0m\n\u001b[0;32m---> 19\u001b[0;31m \u001b[0;32mwith\u001b[0m \u001b[0mopen\u001b[0m\u001b[0;34m(\u001b[0m\u001b[0;34m'/content/drive/My Drive/Yelp/yelp_dataset/user.json'\u001b[0m\u001b[0;34m,\u001b[0m \u001b[0;34m'r'\u001b[0m\u001b[0;34m)\u001b[0m \u001b[0;32mas\u001b[0m \u001b[0muser_inf\u001b[0m\u001b[0;34m:\u001b[0m\u001b[0;34m\u001b[0m\u001b[0;34m\u001b[0m\u001b[0m\n\u001b[0m\u001b[1;32m     20\u001b[0m   \u001b[0;32mfor\u001b[0m \u001b[0mline\u001b[0m \u001b[0;32min\u001b[0m \u001b[0muser_inf\u001b[0m\u001b[0;34m:\u001b[0m\u001b[0;34m\u001b[0m\u001b[0;34m\u001b[0m\u001b[0m\n\u001b[1;32m     21\u001b[0m     \u001b[0mprint\u001b[0m \u001b[0;34m(\u001b[0m\u001b[0mline\u001b[0m\u001b[0;34m)\u001b[0m\u001b[0;34m\u001b[0m\u001b[0;34m\u001b[0m\u001b[0m\n",
            "\u001b[0;31mFileNotFoundError\u001b[0m: [Errno 2] No such file or directory: '/content/drive/My Drive/Yelp/yelp_dataset/user.json'"
          ]
        }
      ]
    }
  ]
}